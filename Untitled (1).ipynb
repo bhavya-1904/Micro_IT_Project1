{
 "cells": [
  {
   "cell_type": "code",
   "execution_count": null,
   "id": "f24c569f-ae28-49a4-9d8f-2b487032e158",
   "metadata": {},
   "outputs": [],
   "source": [
    "import random\n",
    "secret=random.randint(1,100)\n",
    "max_attempts=10\n",
    "for attempt in range(1,max_attempts+1):\n",
    "    try:\n",
    "        guess=int(input(\"Enter your guess:\"))\n",
    "        if guess>secret:\n",
    "            print(f\"The number {guess} is too high!\")\n",
    "        elif guess<secret:\n",
    "            print(f\"The number {guess} is too low!\")\n",
    "        else:\n",
    "            print(f\"Congratulations!! You guessed the number {secret} correctly in {attempt} attempt(s)!!\")\n",
    "    except ValueError:\n",
    "        print(\"Please enter a valid inout!!\")\n",
    "else:\n",
    "    print(\"Sorry, you are out of attempts...Better luck next time!!\")\n",
    "\n"
   ]
  }
 ],
 "metadata": {
  "kernelspec": {
   "display_name": "Python 3 (ipykernel)",
   "language": "python",
   "name": "python3"
  },
  "language_info": {
   "codemirror_mode": {
    "name": "ipython",
    "version": 3
   },
   "file_extension": ".py",
   "mimetype": "text/x-python",
   "name": "python",
   "nbconvert_exporter": "python",
   "pygments_lexer": "ipython3",
   "version": "3.12.7"
  }
 },
 "nbformat": 4,
 "nbformat_minor": 5
}
