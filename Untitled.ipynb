{
 "cells": [
  {
   "cell_type": "code",
   "execution_count": null,
   "id": "3f6bf152-ca33-4192-9365-49ed9d5af76a",
   "metadata": {},
   "outputs": [],
   "source": [
    "import random\n",
    "secret=random.randint(1,100)\n",
    "guess=None\n",
    "while secret!=guess:\n",
    "    try:\n",
    "        guess=int(input(\"Enter Your guess between 1 to 100:\"))\n",
    "        if guess>secret:\n",
    "            print(\"Your guess is high!\")\n",
    "        elif guess<secret:\n",
    "            print(\"Your guess is low!!\")\n",
    "        else:\n",
    "            print(\"Level Completed! you got it!!!\")\n",
    "    except ValueError:\n",
    "        print(\"Please enter a valid value...\")"
   ]
  }
 ],
 "metadata": {
  "kernelspec": {
   "display_name": "Python 3 (ipykernel)",
   "language": "python",
   "name": "python3"
  },
  "language_info": {
   "codemirror_mode": {
    "name": "ipython",
    "version": 3
   },
   "file_extension": ".py",
   "mimetype": "text/x-python",
   "name": "python",
   "nbconvert_exporter": "python",
   "pygments_lexer": "ipython3",
   "version": "3.12.7"
  }
 },
 "nbformat": 4,
 "nbformat_minor": 5
}
